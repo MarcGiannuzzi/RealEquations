{
 "cells": [
  {
   "cell_type": "code",
   "execution_count": 1,
   "metadata": {},
   "outputs": [],
   "source": [
    "\n",
    "\n",
    "import numpy as np # linear algebra\n",
    "import pandas as pd # data processing, CSV file I/O (e.g. pd.read_csv)\n",
    "\n",
    "# Input data files are available in the \"../input/\" directory.\n",
    "# For example, running this (by clicking run or pressing Shift+Enter) will list all files under the input directory\n",
    "\n",
    "import os\n",
    "# print(os.listdir('../input'))\n",
    "\n",
    "# Any results you write to the current directory are saved as output.\n",
    "\n",
    "\n",
    "import matplotlib.pyplot as plt\n",
    "import matplotlib.image as mpimg\n",
    "from skimage.transform import resize\n",
    "import xml.etree.ElementTree as ET\n",
    "import os\n",
    "import numpy as np\n",
    "from tqdm import tqdm\n",
    "import cv2 as cv\n",
    "import pandas as pd\n",
    "import splitfolders"
   ]
  },
  {
   "cell_type": "code",
   "execution_count": 2,
   "metadata": {},
   "outputs": [],
   "source": [
    "def get_traces_data(inkml_filepath):\n",
    "\n",
    "    \ttraces_data = []\n",
    "    \n",
    "    \ttree = ET.parse(inkml_filepath)\n",
    "    \troot = tree.getroot()\n",
    "    \tdoc_namespace = \"{http://www.w3.org/2003/InkML}\"\n",
    "\n",
    "    \t'Stores traces_all with their corresponding id'\n",
    "    \ttraces_all = [{'id': trace_tag.get('id'),\n",
    "    \t\t\t\t\t'coords': [[round(float(axis_coord)) if float(axis_coord).is_integer() else round(float(axis_coord) * 10000) \\\n",
    "    \t\t\t\t\t\t\t\t\tfor axis_coord in coord[1:].split(' ')] if coord.startswith(' ') \\\n",
    "    \t\t\t\t\t\t\t\telse [round(float(axis_coord)) if float(axis_coord).is_integer() else round(float(axis_coord) * 10000) \\\n",
    "    \t\t\t\t\t\t\t\t\tfor axis_coord in coord.split(' ')] \\\n",
    "    \t\t\t\t\t\t\tfor coord in (trace_tag.text).replace('\\n', '').split(',')]} \\\n",
    "    \t\t\t\t\t\t\tfor trace_tag in root.findall(doc_namespace + 'trace')]\n",
    "\n",
    "    \t'Sort traces_all list by id to make searching for references faster'\n",
    "    \ttraces_all.sort(key=lambda trace_dict: int(trace_dict['id']))\n",
    "\n",
    "    \t'Always 1st traceGroup is a redundant wrapper'\n",
    "    \ttraceGroupWrapper = root.find(doc_namespace + 'traceGroup')\n",
    "\n",
    "    \tif traceGroupWrapper is not None:\n",
    "    \t\tfor traceGroup in traceGroupWrapper.findall(doc_namespace + 'traceGroup'):\n",
    "\n",
    "    \t\t\tlabel = traceGroup.find(doc_namespace + 'annotation').text\n",
    "\n",
    "    \t\t\t'traces of the current traceGroup'\n",
    "    \t\t\ttraces_curr = []\n",
    "    \t\t\tfor traceView in traceGroup.findall(doc_namespace + 'traceView'):\n",
    "\n",
    "    \t\t\t\t'Id reference to specific trace tag corresponding to currently considered label'\n",
    "    \t\t\t\ttraceDataRef = int(traceView.get('traceDataRef'))\n",
    "\n",
    "    \t\t\t\t'Each trace is represented by a list of coordinates to connect'\n",
    "    \t\t\t\tsingle_trace = traces_all[traceDataRef]['coords']\n",
    "    \t\t\t\ttraces_curr.append(single_trace)\n",
    "\n",
    "\n",
    "    \t\t\ttraces_data.append({'label': label, 'trace_group': traces_curr})\n",
    "\n",
    "    \telse:\n",
    "    \t\t'Consider Validation data that has no labels'\n",
    "    \t\t[traces_data.append({'trace_group': [trace['coords']]}) for trace in traces_all]\n",
    "\n",
    "    \treturn traces_data"
   ]
  },
  {
   "cell_type": "code",
   "execution_count": 3,
   "metadata": {},
   "outputs": [],
   "source": [
    "capital_list = ['A','B','C','F','X','Y']\n",
    "def inkml2img(input_path, output_path, linewidth):\n",
    "    traces = get_traces_data(input_path)\n",
    "    file_name = 0\n",
    "    ind_output_path = None\n",
    "    for elem in traces:\n",
    "        plt.gca().invert_yaxis()\n",
    "        plt.gca().set_aspect('equal', adjustable='box')\n",
    "        plt.axes().get_xaxis().set_visible(False)\n",
    "        plt.axes().get_yaxis().set_visible(False)\n",
    "        plt.axes().spines['top'].set_visible(False)\n",
    "        plt.axes().spines['right'].set_visible(False)\n",
    "        plt.axes().spines['bottom'].set_visible(False)\n",
    "        plt.axes().spines['left'].set_visible(False)\n",
    "        ls = elem['trace_group']\n",
    "        \n",
    "        for subls in ls:\n",
    "            \n",
    "            data = np.array(subls)\n",
    "            x,y=zip(*data)\n",
    "            plt.plot(x, y, linewidth=linewidth, c='black')\n",
    "        \n",
    "        if 'label' in elem.keys():\n",
    "            label = None\n",
    "            if elem['label'] in capital_list:\n",
    "                label = 'capital' + elem['label']\n",
    "            else:\n",
    "                label = elem['label']\n",
    "                \n",
    "                \n",
    "            ind_output_path = output_path + '_' + label       \n",
    "    \n",
    "        else:\n",
    "            ind_output_path = output_path\n",
    "            \n",
    "            \n",
    "            \n",
    "        ind_output_path = ind_output_path.replace('\\\\', '_')\n",
    "        if not os.path.exists(ind_output_path):\n",
    "            os.mkdir(ind_output_path)\n",
    "    \n",
    "        if(os.path.exists(ind_output_path + '/' + str(file_name) + '.png')):\n",
    "            # print('1111')\n",
    "            file_name += 1\n",
    "            plt.savefig(ind_output_path + '/' + str(file_name) + '.png', bbox_inches='tight', dpi=100)\n",
    "        else:\n",
    "            plt.savefig(ind_output_path + '/' + str(file_name) + '.png', bbox_inches='tight', dpi=100)\n",
    "        plt.gcf().clear()"
   ]
  },
  {
   "cell_type": "code",
   "execution_count": 4,
   "metadata": {},
   "outputs": [],
   "source": [
    "def create_all_images_from_crohme_inkml_data():\n",
    "    current_path = './'\n",
    "    directories = ['test', 'train', 'testGT']\n",
    "    versions = ['2011', '2012']\n",
    "    linewidth = 15\n",
    "    for version in versions:\n",
    "        for directory in directories:\n",
    "            location = current_path + 'data/crohme/CROHME' + version + '_data/' + directory  + 'Data'\n",
    "            files = os.listdir(location)\n",
    "            print(\"Creating images from INKML files of \", location)\n",
    "            does_images_folder_exists = os.path.exists(location + '/Images')\n",
    "            if not does_images_folder_exists:\n",
    "                os.mkdir(location + '/Images')\n",
    "                does_folder_exists = True\n",
    "            for filename in tqdm(files):\n",
    "                if filename[-5:] == 'inkml':\n",
    "                    print(\"Creating images of \", filename)\n",
    "                    position_extension_in_filename = filename.find('.')\n",
    "                    filename_output = filename[:position_extension_in_filename]\n",
    "                    filename_output = filename_output.replace('\\\\', '_')\n",
    "                    inkml2img(location + '/' + filename, location + '/Images/' + filename_output, linewidth)"
   ]
  },
  {
   "cell_type": "code",
   "execution_count": 5,
   "metadata": {},
   "outputs": [],
   "source": [
    "def create_final_data():\n",
    "    if not os.path.exists('./data/crohme/labellized_data'):\n",
    "        os.mkdir('./data/crohme/labellized_data')\n",
    "    if not os.path.exists('./crohme/unlabellized_data'):\n",
    "        os.mkdir('./data/crohme/unlabellized_data')\n",
    "        \n",
    "    counter_images_from_specific_label = 0\n",
    "    counter_unlabellized_images = 0\n",
    "        \n",
    "    labels_directories_created = []\n",
    "    current_path = './'\n",
    "    directories = ['train', 'test', 'testGT']\n",
    "    versions = ['2011', '2012']   \n",
    "    for version in versions:\n",
    "        for directory in directories:\n",
    "            location_images = current_path + 'data/crohme/CROHME' + version + '_data/' + directory  + 'Data/Images'\n",
    "            print(\"Fetching data from \", location_images)\n",
    "            if directory == 'test':\n",
    "                for foldername in tqdm(os.listdir(location_images)):\n",
    "                    specific_location_images = location_images +  '/' + foldername\n",
    "                    for image_filename in os.listdir(specific_location_images):\n",
    "                        image_path = specific_location_images + '/' + image_filename\n",
    "                        image = cv.imread(image_path, cv.IMREAD_GRAYSCALE)\n",
    "                        image = cv.resize(image, (45, 45))\n",
    "                        cv.imwrite('./data/crohme/unlabellized_data/' + str(counter_unlabellized_images) + '.jpg', image)\n",
    "                        counter_unlabellized_images += 1\n",
    "                        \n",
    "            # We do have labellized images in testGT\n",
    "            else:\n",
    "                for foldername in tqdm(os.listdir(location_images)):\n",
    "                    label = foldername[foldername.rfind('_') + 1:]\n",
    "                    if label not in labels_directories_created and not os.path.exists('./crohme/labellized_data/' + label):\n",
    "                        os.mkdir('./data/crohme/labellized_data/' + label)\n",
    "                    specific_location_images = location_images +  '/' + foldername\n",
    "                    for image_filename in os.listdir(specific_location_images):\n",
    "                        image_path = specific_location_images + '/' + image_filename\n",
    "                        image = cv.imread(image_path, cv.IMREAD_GRAYSCALE)\n",
    "                        image = cv.resize(image, (45, 45)) \n",
    "                        cv.imwrite('./data/crohme/labellized_data/' + label + '/' + str(counter_images_from_specific_label) + '.jpg', image)\n",
    "                        counter_images_from_specific_label += 1\n"
   ]
  },
  {
   "cell_type": "code",
   "execution_count": 6,
   "metadata": {},
   "outputs": [
    {
     "name": "stderr",
     "output_type": "stream",
     "text": [
      "\r",
      "  0%|                                                                                         | 0/6663 [00:00<?, ?it/s]"
     ]
    },
    {
     "name": "stdout",
     "output_type": "stream",
     "text": [
      "Fetching data from  ./crohme/CROHME2011_data/trainData/Images\n"
     ]
    },
    {
     "name": "stderr",
     "output_type": "stream",
     "text": [
      "100%|█████████████████████████████████████████████████████████████████████████████| 6663/6663 [00:51<00:00, 129.92it/s]\n",
      "  0%|▏                                                                                 | 1/348 [00:00<00:44,  7.87it/s]"
     ]
    },
    {
     "name": "stdout",
     "output_type": "stream",
     "text": [
      "Fetching data from  ./crohme/CROHME2011_data/testData/Images\n"
     ]
    },
    {
     "name": "stderr",
     "output_type": "stream",
     "text": [
      "100%|████████████████████████████████████████████████████████████████████████████████| 348/348 [00:16<00:00, 20.79it/s]\n",
      "  0%|▏                                                                                | 5/2133 [00:00<00:43, 48.54it/s]"
     ]
    },
    {
     "name": "stdout",
     "output_type": "stream",
     "text": [
      "Fetching data from  ./crohme/CROHME2011_data/testGTData/Images\n"
     ]
    },
    {
     "name": "stderr",
     "output_type": "stream",
     "text": [
      "100%|██████████████████████████████████████████████████████████████████████████████| 2133/2133 [00:50<00:00, 42.62it/s]\n"
     ]
    },
    {
     "name": "stdout",
     "output_type": "stream",
     "text": [
      "Fetching data from  ./crohme/CROHME2012_data/trainData/Images\n"
     ]
    },
    {
     "name": "stderr",
     "output_type": "stream",
     "text": [
      "100%|████████████████████████████████████████████████████████████████████████████| 10168/10168 [03:16<00:00, 51.67it/s]\n",
      "  0%|                                                                                          | 0/488 [00:00<?, ?it/s]"
     ]
    },
    {
     "name": "stdout",
     "output_type": "stream",
     "text": [
      "Fetching data from  ./crohme/CROHME2012_data/testData/Images\n"
     ]
    },
    {
     "name": "stderr",
     "output_type": "stream",
     "text": [
      "100%|████████████████████████████████████████████████████████████████████████████████| 488/488 [00:43<00:00, 11.13it/s]\n",
      "  1%|▍                                                                              | 20/3877 [00:00<00:19, 198.02it/s]"
     ]
    },
    {
     "name": "stdout",
     "output_type": "stream",
     "text": [
      "Fetching data from  ./crohme/CROHME2012_data/testGTData/Images\n"
     ]
    },
    {
     "name": "stderr",
     "output_type": "stream",
     "text": [
      "100%|██████████████████████████████████████████████████████████████████████████████| 3877/3877 [01:59<00:00, 32.36it/s]\n"
     ]
    }
   ],
   "source": [
    "create_final_data()"
   ]
  },
  {
   "cell_type": "code",
   "execution_count": null,
   "metadata": {},
   "outputs": [],
   "source": []
  }
 ],
 "metadata": {
  "kernelspec": {
   "display_name": "Python 3",
   "language": "python",
   "name": "python3"
  },
  "language_info": {
   "codemirror_mode": {
    "name": "ipython",
    "version": 3
   },
   "file_extension": ".py",
   "mimetype": "text/x-python",
   "name": "python",
   "nbconvert_exporter": "python",
   "pygments_lexer": "ipython3",
   "version": "3.6.12"
  }
 },
 "nbformat": 4,
 "nbformat_minor": 4
}
